{
 "cells": [
  {
   "cell_type": "code",
   "execution_count": 1,
   "metadata": {},
   "outputs": [],
   "source": [
    "from selenium import webdriver\n",
    "from selenium.webdriver.chrome.service import Service\n",
    "from selenium.webdriver.common.by import By\n",
    "from selenium.webdriver.common.action_chains import ActionChains\n",
    "import time\n",
    "import math\n",
    "import pandas as pd\n",
    "import numpy as np\n",
    "from tqdm import tqdm"
   ]
  },
  {
   "attachments": {},
   "cell_type": "markdown",
   "metadata": {},
   "source": [
    "---"
   ]
  },
  {
   "attachments": {},
   "cell_type": "markdown",
   "metadata": {},
   "source": [
    "### 完整code"
   ]
  },
  {
   "cell_type": "code",
   "execution_count": null,
   "metadata": {},
   "outputs": [],
   "source": [
    "# 啟動WebDriver\n",
    "path = (\"chromedriver\")\n",
    "s = Service(path)\n",
    "driver = webdriver.Chrome(service=s)\n",
    "\n",
    "# 進入網頁\n",
    "driver.get(\"https://www.vivino.com/explore?wine_type_ids[]=1\")\n",
    "\n",
    "# 選擇語言 \n",
    "language_button = driver.find_elements(By.CSS_SELECTOR, \".simpleLabel_selectedKey__ubPnI\")#先定位 “.”的意思是網頁的class的意思 find_elements有s就代表抓的東西會變成list\n",
    "language_button[1].click()#所以0是送貨 1是語言\n",
    "\n",
    "time.sleep(0.5)\n",
    "\n",
    "#選英文語言\n",
    "language_switch = driver.find_element(By.XPATH,\"//div[@class='navigationItem_closeWrapper__n28xG']//li[3]\")#一樣去定位 這裡用xpath的方法 第三個li的標籤\n",
    "print(language_switch.text)#檢查是不是真的有選到英文\n",
    "language_switch.click()\n",
    "\n",
    "time.sleep(2)\n",
    "\n",
    "\n",
    "# 選擇價格範圍 先定位\n",
    "slider_1 = driver.find_element(By.CSS_SELECTOR, \".rc-slider-handle-1\")#最低價格的點\n",
    "slider_2 = driver.find_element(By.CSS_SELECTOR, \".rc-slider-handle-2\")#最高價格的點\n",
    "\n",
    "#開始把最低價格拉到最低點 最高價格拉到最高點\n",
    "move = ActionChains(driver)#selenium的套件 可以進行拉的動作\n",
    "move.click_and_hold(slider_1).move_by_offset(-30, 0).release().perform()#x軸往左30個像素 再放掉\n",
    "move.click_and_hold(slider_2).move_by_offset(120, 0).release().perform()#x軸往右移120個像素 再放掉\n",
    "\n",
    "# 選擇評分範圍\n",
    "rating_select = driver.find_element(By.CSS_SELECTOR, \"input[id='1']\") #定位到anyrating 有id的通常是唯一值 只會在網頁中出現過一次，這也是定位的另一種方法\n",
    "rating_select.click()\n",
    "\n",
    "time.sleep(1)\n",
    "\n",
    "# 滑動視窗\n",
    "driver.execute_script(\"window.scrollBy(0, document.body.scrollHeight);\")#會傳送javascript的指令 x軸不動 y軸是給scroll的高度就是整個的高度=拉到底\n",
    "\n",
    "\n",
    "# 建立DataFrame 把藥的欄位定義出來\n",
    "df = pd.DataFrame(columns = ['Link', 'winery' , 'wine_name', 'no', 'year',\n",
    "                             'price_id', 'country', 'region', 'wine_type', 'grape_id', 'rating', 'no_ratings',\n",
    "                             'highlight1', 'hightlight2', 'price', 'taste_lb', 'taste_st', 'taste_ds', 'taste_sa'])\n",
    "\n",
    "# 取得所有酒的連結\n",
    "links = driver.find_elements(By.CSS_SELECTOR, \".anchor_anchor__m8Qi-.wineCard__cardLink--3F_uB\")#找到有放連結的class 但因為同時有兩個class 所以兩個在前面都要有個\".\"然後要連再一起 才會被認為是同一層的\n",
    "\n",
    "for i in links:\n",
    "    print(i.get_attribute('href'))#會顯示href裡面這串連結\n",
    "    new_df = pd.DataFrame({'Link' : i.get_attribute('href')}, index=[0])#新建一個dataframe columns是Link，值就是剛剛的連結\n",
    "\n",
    "    df=pd.concat([df,new_df] , ignore_index=True)\n",
    "df.to_csv('vivino_red.csv', encoding='utf-8-sig')"
   ]
  },
  {
   "attachments": {},
   "cell_type": "markdown",
   "metadata": {},
   "source": [
    "---"
   ]
  },
  {
   "attachments": {},
   "cell_type": "markdown",
   "metadata": {},
   "source": [
    "### 分區塊"
   ]
  },
  {
   "cell_type": "code",
   "execution_count": 168,
   "metadata": {},
   "outputs": [],
   "source": [
    "# 啟動WebDriver\n",
    "path = (\"chromedriver\")\n",
    "s = Service(path)\n",
    "driver = webdriver.Chrome(service=s)"
   ]
  },
  {
   "cell_type": "code",
   "execution_count": 169,
   "metadata": {},
   "outputs": [],
   "source": [
    "# 進入網頁\n",
    "driver.get(\"https://www.vivino.com/explore?wine_type_ids[]=1\")"
   ]
  },
  {
   "cell_type": "code",
   "execution_count": 170,
   "metadata": {},
   "outputs": [],
   "source": [
    "# 選擇語言 \n",
    "language_button = driver.find_elements(By.CSS_SELECTOR, \".simpleLabel_selectedKey__ubPnI\")#先定位 “.”的意思是網頁的class的意思 find_elements有s就代表抓的東西會變成list\n",
    "language_button[1].click()#所以0是送貨 1是語言\n",
    "\n",
    "time.sleep(0.5)"
   ]
  },
  {
   "cell_type": "code",
   "execution_count": 171,
   "metadata": {},
   "outputs": [
    {
     "name": "stdout",
     "output_type": "stream",
     "text": [
      "English\n"
     ]
    }
   ],
   "source": [
    "#選英文語言\n",
    "language_switch = driver.find_element(By.XPATH,\"//div[@class='navigationItem_closeWrapper__n28xG']//li[3]\")#一樣去定位 這裡用xpath的方法 第三個li的標籤\n",
    "print(language_switch.text)#檢查是不是真的有選到英文\n",
    "language_switch.click()\n",
    "\n",
    "time.sleep(2)"
   ]
  },
  {
   "cell_type": "code",
   "execution_count": 172,
   "metadata": {},
   "outputs": [],
   "source": [
    "# 選擇價格範圍 先定位\n",
    "slider_1 = driver.find_element(By.CSS_SELECTOR, \".rc-slider-handle-1\")#最低價格的點\n",
    "slider_2 = driver.find_element(By.CSS_SELECTOR, \".rc-slider-handle-2\")#最高價格的點\n"
   ]
  },
  {
   "cell_type": "code",
   "execution_count": 174,
   "metadata": {},
   "outputs": [],
   "source": [
    "#開始把最低價格拉到最低點 最高價格拉到最高點\n",
    "move = ActionChains(driver)#selenium的套件 可以進行拉的動作\n",
    "move.click_and_hold(slider_1).move_by_offset(-30, 0).release().perform()#x軸往左30個像素 再放掉\n",
    "move.click_and_hold(slider_2).move_by_offset(140, 0).release().perform()#x軸往右移120個像素 再放掉\n"
   ]
  },
  {
   "cell_type": "code",
   "execution_count": 178,
   "metadata": {},
   "outputs": [],
   "source": [
    "# 選擇評分範圍 \n",
    "rating_select = driver.find_element(By.CSS_SELECTOR, \"input[id='1']\") #定位到anyrating 有id的通常是唯一值 只會在網頁中出現過一次，這也是定位的另一種方法\n",
    "rating_select.click()\n",
    "\n",
    "time.sleep(1)"
   ]
  },
  {
   "cell_type": "code",
   "execution_count": 180,
   "metadata": {},
   "outputs": [],
   "source": [
    "# 滑動視窗 2351/25=95\n",
    "# for i in range(95):\n",
    "#     driver.execute_script(\"window.scrollBy(0, document.body.scrollHeight);\")#會傳送javascript的指令 x軸不動 y軸是給scroll的高度就是整個的高度=拉到底\n",
    "#     time.sleep(4)\n",
    "driver.execute_script(\"window.scrollBy(0, document.body.scrollHeight);\")"
   ]
  },
  {
   "cell_type": "code",
   "execution_count": 181,
   "metadata": {},
   "outputs": [],
   "source": [
    "# 建立DataFrame 把藥的欄位定義出來\n",
    "df = pd.DataFrame(columns = ['Link', 'winery' , 'wine_name', 'no', 'year',\n",
    "                             'price_id', 'country', 'region', 'wine_type', 'grape_id', 'rating', 'no_ratings',\n",
    "                             'highlight1', 'hightlight2', 'price', 'taste_lb', 'taste_st', 'taste_ds', 'taste_sa'])"
   ]
  },
  {
   "cell_type": "code",
   "execution_count": 182,
   "metadata": {},
   "outputs": [],
   "source": [
    "# 取得所有酒的連結 #會有重複的問題 紅酒總共也才2351支\n",
    "links = driver.find_elements(By.CSS_SELECTOR, \".anchor_anchor__m8Qi-.wineCard__cardLink--3F_uB\")#找到有放連結的class 但因為同時有兩個class 所以兩個在前面都要有個\".\"然後要連再一起 才會被認為是同一層的"
   ]
  },
  {
   "cell_type": "code",
   "execution_count": null,
   "metadata": {},
   "outputs": [],
   "source": [
    "del links"
   ]
  },
  {
   "cell_type": "code",
   "execution_count": 183,
   "metadata": {},
   "outputs": [
    {
     "data": {
      "text/plain": [
       "100"
      ]
     },
     "execution_count": 183,
     "metadata": {},
     "output_type": "execute_result"
    }
   ],
   "source": [
    "len(links)"
   ]
  },
  {
   "cell_type": "code",
   "execution_count": 184,
   "metadata": {},
   "outputs": [
    {
     "data": {
      "text/plain": [
       "[<selenium.webdriver.remote.webelement.WebElement (session=\"77487000e2deacb3781aa7a22ef5da10\", element=\"2a3f6dbb-a6dd-4880-9949-8ff52a48fd9c\")>,\n",
       " <selenium.webdriver.remote.webelement.WebElement (session=\"77487000e2deacb3781aa7a22ef5da10\", element=\"b00fc894-2be1-41f9-811a-9631ce30ba97\")>,\n",
       " <selenium.webdriver.remote.webelement.WebElement (session=\"77487000e2deacb3781aa7a22ef5da10\", element=\"7b06aa27-f10b-49d6-bc56-1e5523411419\")>,\n",
       " <selenium.webdriver.remote.webelement.WebElement (session=\"77487000e2deacb3781aa7a22ef5da10\", element=\"9a2b9957-fa68-40c7-a1ac-b4ad295aa461\")>,\n",
       " <selenium.webdriver.remote.webelement.WebElement (session=\"77487000e2deacb3781aa7a22ef5da10\", element=\"adaa792f-59e6-4294-a85b-ae5347ddd1d1\")>,\n",
       " <selenium.webdriver.remote.webelement.WebElement (session=\"77487000e2deacb3781aa7a22ef5da10\", element=\"dbd24e1b-72bf-47a3-a2e2-35f79aa78cb5\")>,\n",
       " <selenium.webdriver.remote.webelement.WebElement (session=\"77487000e2deacb3781aa7a22ef5da10\", element=\"99ff4a42-9a29-4147-8d1d-9bf0b85b21d1\")>,\n",
       " <selenium.webdriver.remote.webelement.WebElement (session=\"77487000e2deacb3781aa7a22ef5da10\", element=\"8f939b36-5c30-4be3-8d9f-e085c932d0d2\")>,\n",
       " <selenium.webdriver.remote.webelement.WebElement (session=\"77487000e2deacb3781aa7a22ef5da10\", element=\"9d320065-0010-4108-9133-7b88ace87605\")>,\n",
       " <selenium.webdriver.remote.webelement.WebElement (session=\"77487000e2deacb3781aa7a22ef5da10\", element=\"bf6ae325-51ee-48cd-8ed0-769ce80fc993\")>]"
      ]
     },
     "execution_count": 184,
     "metadata": {},
     "output_type": "execute_result"
    }
   ],
   "source": [
    "links[:10]"
   ]
  },
  {
   "cell_type": "code",
   "execution_count": 185,
   "metadata": {},
   "outputs": [
    {
     "name": "stdout",
     "output_type": "stream",
     "text": [
      "https://www.vivino.com/quintarelli-giuseppe-amarone-della-valpolicella-classico/w/84065?year=2013&price_id=29844140\n",
      "https://www.vivino.com/pavie-saint-emilion-grand-cru-premier-grand-cru-classe/w/1179539?year=2015&price_id=30477724\n",
      "https://www.vivino.com/caymus-vineyards-special-selection-cabernet-sauvignon/w/66294?year=2014&price_id=23419440\n",
      "https://www.vivino.com/caymus-vineyards-special-selection-cabernet-sauvignon/w/66294?year=2015&price_id=23419453\n",
      "https://www.vivino.com/caymus-vineyards-special-selection-cabernet-sauvignon/w/66294?year=2017&price_id=29476559\n",
      "https://www.vivino.com/clos-apalta-clos-apalta/w/13759?year=2005&price_id=2754345\n",
      "https://www.vivino.com/caymus-vineyards-special-selection-cabernet-sauvignon/w/66294?year=2005&price_id=29825487\n",
      "https://www.vivino.com/continuum-partners-continuum-estate/w/1104820?year=2016&price_id=21793246\n",
      "https://www.vivino.com/continuum-partners-continuum-estate/w/1104820?year=2018&price_id=30391250\n",
      "https://www.vivino.com/sine-qua-non-piranha-waterdance/w/4861079?year=2014&price_id=21842200\n",
      "https://www.vivino.com/dominus-estate-dominus-christian-moueix/w/9958?year=2018&price_id=29744865\n",
      "https://www.vivino.com/sine-qua-non-ratsel-syrah/w/7139566?year=2016&price_id=21842201\n",
      "https://www.vivino.com/sine-qua-non-the-hated-hunter-syrah/w/8075594?year=2017&price_id=21793211\n",
      "https://www.vivino.com/kosta-browne-gap-s-crown-vineyard-pinot-noir/w/2988844?year=2017&price_id=20548538\n",
      "https://www.vivino.com/gaja-darmagi-langhe/w/66224?year=1999&price_id=11536669\n",
      "https://www.vivino.com/tertre-roteboeuf-saint-emilion-grand-cru/w/1172486?year=2016&price_id=31123077\n",
      "https://www.vivino.com/e-guigal-cote-rotie-la-mouline/w/36434?year=2016&price_id=27293241\n",
      "https://www.vivino.com/bellevue-mondotte-saint-emilion-grand-cru/w/2399477?year=2005&price_id=31139810\n",
      "https://www.vivino.com/roagna-montefico-barbaresco-vecchie-viti/w/1992380?year=2011&price_id=31352384\n",
      "https://www.vivino.com/antinori-tuscany-tignanello/w/1652?year=2016&price_id=23419325\n",
      "https://www.vivino.com/antinori-tuscany-tignanello/w/1652?year=2015&price_id=21180721\n",
      "https://www.vivino.com/antinori-tuscany-tignanello/w/1652?year=2017&price_id=23112933\n",
      "https://www.vivino.com/don-melchor-cabernet-sauvignon/w/1135069?year=2015&price_id=23419449\n",
      "https://www.vivino.com/don-melchor-cabernet-sauvignon/w/1135069?year=2014&price_id=23419421\n",
      "https://www.vivino.com/caymus-vineyards-special-selection-cabernet-sauvignon/w/66294?year=2009&price_id=23419465\n",
      "https://www.vivino.com/antinori-tuscany-tignanello/w/1652?year=2019&price_id=30188331\n",
      "https://www.vivino.com/tenuta-san-guido-sassicaia/w/5078?year=2018&price_id=28925651\n",
      "https://www.vivino.com/ornellaia-bolgheri-superiore/w/22447?year=2015&price_id=29409736\n",
      "https://www.vivino.com/clos-apalta-clos-apalta/w/13759?year=2009&price_id=25541292\n",
      "https://www.vivino.com/chateau-pichon-baron-pauillac-grand-cru-classe-pauillac-red-wine/w/79762?year=2005&price_id=23419431\n",
      "https://www.vivino.com/caymus-vineyards-special-selection-cabernet-sauvignon/w/66294?year=2010&price_id=21851537\n",
      "https://www.vivino.com/clos-apalta-clos-apalta/w/13759?year=2011&price_id=25541288\n",
      "https://www.vivino.com/silver-oak-napa-valley-cabernet-sauvignon/w/3069?year=2016&price_id=26506347\n",
      "https://www.vivino.com/sena-aconcagua-valley/w/25474?year=2007&price_id=14541463\n",
      "https://www.vivino.com/ornellaia-bolgheri-superiore/w/22447?year=2017&price_id=28925649\n",
      "https://www.vivino.com/ornellaia-bolgheri-superiore/w/22447?year=2004&price_id=30325759\n",
      "https://www.vivino.com/chateau-smith-haut-lafitte-pessac-leognan-grand-cru-classe-de-graves/w/17656?year=2009&price_id=30328663\n",
      "https://www.vivino.com/fr-chateau-pape-clement-pessac-leognan-grand-cru-classe-de-graves/w/82613?year=2010&price_id=4560808\n",
      "https://www.vivino.com/continuum-partners-continuum-estate/w/1104820?year=2014&price_id=30934085\n",
      "https://www.vivino.com/chateau-leoville-las-cases-saint-julien-grand-cru-classe/w/81848?year=1990&price_id=6277787\n",
      "https://www.vivino.com/chateau-angelus-saint-emilion-grand-cru-premier-grand-cru-classe/w/10175?year=2004&price_id=4910790\n",
      "https://www.vivino.com/stag-s-leap-wine-cellars-cask-23-cabernet-sauvignon/w/2653222?year=2014&price_id=23419419\n",
      "https://www.vivino.com/pavie-saint-emilion-grand-cru-premier-grand-cru-classe/w/1179539?year=2003&price_id=14527602\n",
      "https://www.vivino.com/paul-hobbs-cabernet-sauvignon/w/87659?year=2016&price_id=22733070\n",
      "https://www.vivino.com/chateau-angelus-saint-emilion-grand-cru-premier-grand-cru-classe/w/10175?year=2015&price_id=19589746\n",
      "https://www.vivino.com/chateau-angelus-saint-emilion-grand-cru-premier-grand-cru-classe/w/10175?year=2008&price_id=48276\n",
      "https://www.vivino.com/pavie-saint-emilion-grand-cru-premier-grand-cru-classe/w/1179539?year=2001&price_id=13337184\n",
      "https://www.vivino.com/kosta-browne-sonoma-coast-pinot-noir/w/4450?year=2017&price_id=20548532\n",
      "https://www.vivino.com/chateau-leoville-las-cases-saint-julien-grand-cru-classe/w/81848?year=2010&price_id=9647302\n",
      "https://www.vivino.com/casa-silva-altura/w/18323?year=2008&price_id=3680215\n",
      "https://www.vivino.com/kosta-browne-sonoma-coast-pinot-noir/w/4450?year=2018&price_id=22980904\n",
      "https://www.vivino.com/heitz-martha-s-vineyard-cabernet-sauvignon/w/83222?year=2005&price_id=21793301\n",
      "https://www.vivino.com/quilceda-creek-cabernet-sauvignon/w/1145391?year=2012&price_id=21793259\n",
      "https://www.vivino.com/pavie-saint-emilion-grand-cru-premier-grand-cru-classe/w/1179539?year=2014&price_id=13537971\n",
      "https://www.vivino.com/chateau-ducru-beaucaillou-saint-julien-grand-cru-classe/w/61744?year=2016&price_id=24655089\n",
      "https://www.vivino.com/poggio-di-sotto-brunello-di-montalcino-riserva/w/1458882?year=2007&price_id=31352374\n",
      "https://www.vivino.com/sena-aconcagua-valley/w/25474?year=2003&price_id=2895098\n",
      "https://www.vivino.com/penfolds-rwt-bin-798-shiraz/w/7571198?year=2015&price_id=21186248\n",
      "https://www.vivino.com/santa-carolina-luis-pereira-central-valley-red-wine/w/5197411?year=2012&price_id=9865746\n",
      "https://www.vivino.com/clos-saint-jean-chateauneuf-du-pape-deus-ex-machina/w/1172691?year=2007&price_id=24348547\n",
      "https://www.vivino.com/muga-torre-muga/w/7494?year=2000&price_id=2754321\n",
      "https://www.vivino.com/le-macchiole-messorio/w/16418?year=2017&price_id=28322416\n",
      "https://www.vivino.com/fr-chateau-latour-les-forts-de-latour-pauillac/w/1168676?year=1982&price_id=2534393\n",
      "https://www.vivino.com/duckhorn-the-discussion/w/1161732?year=2008&price_id=21793228\n",
      "https://www.vivino.com/muga-aro/w/7495?year=2001&price_id=16860341\n",
      "https://www.vivino.com/two-hands-wines-ares-barossa-valley/w/1464100?year=2015&price_id=21180723\n",
      "https://www.vivino.com/figeac-saint-emilion-grand-cru-premier-grand-cru-classe/w/16778?year=2019&price_id=29462640\n",
      "https://www.vivino.com/pavie-decesse-saint-emilion-grand-cru-grand-cru-classe/w/1167555?year=2009&price_id=9824141\n",
      "https://www.vivino.com/le-bon-pasteur-pomerol/w/1099243?year=1990&price_id=3536039\n",
      "https://www.vivino.com/musar-rouge-gaston-hochar/w/75190?year=1987&price_id=27063233\n",
      "https://www.vivino.com/chateau-magdelaine-saint-emilion-grand-cru-premier-grand-cru-classe/w/1100884?year=1983&price_id=47677\n",
      "https://www.vivino.com/bellevue-mondotte-saint-emilion-grand-cru/w/2399477?year=2015&price_id=16539924\n",
      "https://www.vivino.com/delas-freres-la-landonne-cote-rotie/w/14600?year=2016&price_id=29498357\n",
      "https://www.vivino.com/domaine-de-la-vougeraie-clos-de-vougeot-grand-cru/w/1235009?year=2018&price_id=25123876\n",
      "https://www.vivino.com/stag-s-leap-wine-cellars-artemis-cabernet-sauvignon/w/1107336?year=2018&price_id=28786978\n",
      "https://www.vivino.com/catena-zapata-malbec-argentino/w/1869?year=2015&price_id=21851551\n",
      "https://www.vivino.com/pintia-toro/w/77172?year=2015&price_id=21188235\n",
      "https://www.vivino.com/aalto-ps-pagos-seleccionados-ribera-del-duero/w/1129282?year=2016&price_id=30966679\n",
      "https://www.vivino.com/don-melchor-cabernet-sauvignon/w/1135069?year=2013&price_id=23419343\n",
      "https://www.vivino.com/orin-swift-papillon/w/7073?year=2018&price_id=25050114\n",
      "https://www.vivino.com/don-melchor-cabernet-sauvignon/w/1135069?year=2012&price_id=29882190\n",
      "https://www.vivino.com/montes-purple-angel/w/71274?year=2015&price_id=24655230\n",
      "https://www.vivino.com/valduero-bodegas-y-vinedo-ribera-del-duero-reserva-premium-6-anos/w/1415247?year=2010&price_id=18292604\n",
      "https://www.vivino.com/chateau-leoville-barton-saint-julien-grand-cru-classe/w/22685?year=2003&price_id=47670\n",
      "https://www.vivino.com/caymus-vineyards-cabernet-sauvignon/w/66284?year=2020&price_id=30661113\n",
      "https://www.vivino.com/fr-chateau-pape-clement-pessac-leognan-grand-cru-classe-de-graves/w/82613?year=2015&price_id=16238160\n",
      "https://www.vivino.com/cos-d-estournel-cos-d-estournel/w/74346?year=2003&price_id=5157496\n",
      "https://www.vivino.com/fr-chateau-leoville-poyferre-saint-julien-grand-cru-classe/w/1115658?year=2010&price_id=21793247\n",
      "https://www.vivino.com/montes-purple-angel/w/71274?year=2018&price_id=26918576\n",
      "https://www.vivino.com/chateau-montrose-saint-estephe-grand-cru-classe/w/80472?year=2003&price_id=5231210\n",
      "https://www.vivino.com/figeac-saint-emilion-grand-cru-premier-grand-cru-classe/w/16778?year=2005&price_id=6698325\n",
      "https://www.vivino.com/fr-chateau-pape-clement-pessac-leognan-grand-cru-classe-de-graves/w/82613?year=2009&price_id=30328650\n",
      "https://www.vivino.com/chateau-palmer-grand-vin-de-chateau-palmer-grand-cru-classe/w/9220?year=1996&price_id=48217\n",
      "https://www.vivino.com/chateau-palmer-grand-vin-de-chateau-palmer-grand-cru-classe/w/9220?year=2004&price_id=5403565\n",
      "https://www.vivino.com/catena-zapata-nicolas-catena-zapata/w/1868?year=2007&price_id=21180726\n",
      "https://www.vivino.com/vina-vik-winery-la-piu-belle/w/5571323?year=2011&price_id=18967980\n",
      "https://www.vivino.com/chateau-ducru-beaucaillou-saint-julien-grand-cru-classe/w/61744?year=1996&price_id=5023343\n",
      "https://www.vivino.com/chateau-pichon-baron-pauillac-grand-cru-classe-pauillac-red-wine/w/79762?year=1995&price_id=100012\n",
      "https://www.vivino.com/chateau-pichon-longueville-comtesse-de-lalande-pauillac-grand-cru-classe/w/1125543?year=1986&price_id=6938837\n",
      "https://www.vivino.com/aalto-ps-pagos-seleccionados-ribera-del-duero/w/1129282?year=2012&price_id=30966714\n"
     ]
    }
   ],
   "source": [
    "for i in links:\n",
    "    print(i.get_attribute('href'))#會顯示href裡面這串連結\n",
    "    new_df = pd.DataFrame({'Link' : i.get_attribute('href')}, index=[0])#新建一個dataframe columns是Link，值就是剛剛的連結\n",
    "\n",
    "    df=pd.concat([df,new_df] , ignore_index=True)"
   ]
  },
  {
   "cell_type": "code",
   "execution_count": null,
   "metadata": {},
   "outputs": [],
   "source": [
    "df.to_csv('vivino_red.csv', encoding='utf-8-sig')"
   ]
  }
 ],
 "metadata": {
  "kernelspec": {
   "display_name": "pure8019",
   "language": "python",
   "name": "python3"
  },
  "language_info": {
   "codemirror_mode": {
    "name": "ipython",
    "version": 3
   },
   "file_extension": ".py",
   "mimetype": "text/x-python",
   "name": "python",
   "nbconvert_exporter": "python",
   "pygments_lexer": "ipython3",
   "version": "3.7.15 (default, Nov 24 2022, 12:02:37) \n[Clang 14.0.6 ]"
  },
  "orig_nbformat": 4,
  "vscode": {
   "interpreter": {
    "hash": "c2a90a7f56671494be2692bb87900d32ba044ef6cc7f1986c404604a080cdc40"
   }
  }
 },
 "nbformat": 4,
 "nbformat_minor": 2
}
